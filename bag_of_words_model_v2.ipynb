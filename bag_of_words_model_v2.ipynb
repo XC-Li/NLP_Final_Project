{
 "cells": [
  {
   "cell_type": "markdown",
   "metadata": {},
   "source": [
    "# Bag of words model\n",
    "Final Project for NLP"
   ]
  },
  {
   "cell_type": "code",
   "execution_count": 74,
   "metadata": {},
   "outputs": [
    {
     "name": "stdout",
     "output_type": "stream",
     "text": [
      "[nltk_data] Downloading package averaged_perceptron_tagger to\n",
      "[nltk_data]     C:\\Users\\isaac\\AppData\\Roaming\\nltk_data...\n",
      "[nltk_data]   Unzipping taggers\\averaged_perceptron_tagger.zip.\n"
     ]
    },
    {
     "data": {
      "text/plain": [
       "True"
      ]
     },
     "execution_count": 74,
     "metadata": {},
     "output_type": "execute_result"
    }
   ],
   "source": [
    "import nltk\n",
    "nltk.download('averaged_perceptron_tagger')"
   ]
  },
  {
   "cell_type": "code",
   "execution_count": 103,
   "metadata": {},
   "outputs": [],
   "source": [
    "from nltk import word_tokenize\n",
    "from nltk.corpus import stopwords\n",
    "from nltk.stem.porter import PorterStemmer\n",
    "from sklearn.ensemble import RandomForestClassifier\n",
    "from sklearn.model_selection import train_test_split\n",
    "from sklearn.feature_extraction.text import TfidfVectorizer\n",
    "from sklearn.decomposition import TruncatedSVD\n",
    "from sklearn.metrics import f1_score\n",
    "from sklearn.metrics import accuracy_score, confusion_matrix\n",
    "import seaborn as sns\n",
    "from sklearn.pipeline import Pipeline\n",
    "import itertools\n",
    "from collections import Counter"
   ]
  },
  {
   "cell_type": "markdown",
   "metadata": {},
   "source": [
    "## Loading data and preprocessing"
   ]
  },
  {
   "cell_type": "code",
   "execution_count": 2,
   "metadata": {},
   "outputs": [],
   "source": [
    "import pandas as pd\n",
    "import numpy as np\n",
    "import matplotlib.pyplot as plt\n",
    "from tqdm import tqdm"
   ]
  },
  {
   "cell_type": "markdown",
   "metadata": {},
   "source": [
    "\"small_data.pickle\" is a preprocessed dataset with reviews having greater than 2 \"useful\" tagging."
   ]
  },
  {
   "cell_type": "code",
   "execution_count": 3,
   "metadata": {},
   "outputs": [],
   "source": [
    "idA = {1:'American (Traditional)', 2:'Italian',3:'Mexican',4:'Chinese',5:'American (New)',6:'Japanese', 0:'Other'}\n",
    "idB = {1:'Nightlife', 2:'Fast Food', 3:'Breakfast & Brunch', 4:'Coffee & Tea', 5:'Cafes', 0:'Other'}\n",
    "df = pd.read_pickle(\"small_data.pickle\")"
   ]
  },
  {
   "cell_type": "code",
   "execution_count": 27,
   "metadata": {},
   "outputs": [
    {
     "data": {
      "text/plain": [
       "(144748, 7)"
      ]
     },
     "execution_count": 27,
     "metadata": {},
     "output_type": "execute_result"
    }
   ],
   "source": [
    "df.shape"
   ]
  },
  {
   "cell_type": "code",
   "execution_count": 28,
   "metadata": {},
   "outputs": [
    {
     "data": {
      "text/html": [
       "<div>\n",
       "<style scoped>\n",
       "    .dataframe tbody tr th:only-of-type {\n",
       "        vertical-align: middle;\n",
       "    }\n",
       "\n",
       "    .dataframe tbody tr th {\n",
       "        vertical-align: top;\n",
       "    }\n",
       "\n",
       "    .dataframe thead th {\n",
       "        text-align: right;\n",
       "    }\n",
       "</style>\n",
       "<table border=\"1\" class=\"dataframe\">\n",
       "  <thead>\n",
       "    <tr style=\"text-align: right;\">\n",
       "      <th></th>\n",
       "      <th>typeA</th>\n",
       "      <th>typeB</th>\n",
       "      <th>useful</th>\n",
       "      <th>cool</th>\n",
       "      <th>funny</th>\n",
       "      <th>review</th>\n",
       "      <th>stars</th>\n",
       "    </tr>\n",
       "    <tr>\n",
       "      <th>business_id</th>\n",
       "      <th></th>\n",
       "      <th></th>\n",
       "      <th></th>\n",
       "      <th></th>\n",
       "      <th></th>\n",
       "      <th></th>\n",
       "      <th></th>\n",
       "    </tr>\n",
       "  </thead>\n",
       "  <tbody>\n",
       "    <tr>\n",
       "      <th>frCxZS7lPhEnQRJ3UY6m7A</th>\n",
       "      <td>3</td>\n",
       "      <td>5</td>\n",
       "      <td>9</td>\n",
       "      <td>9</td>\n",
       "      <td>0</td>\n",
       "      <td>Dude.\\n\\nI love this place. It's walking dista...</td>\n",
       "      <td>5</td>\n",
       "    </tr>\n",
       "    <tr>\n",
       "      <th>n5jTCFF6LqNIAz6Jx5-3tw</th>\n",
       "      <td>4</td>\n",
       "      <td>2</td>\n",
       "      <td>2</td>\n",
       "      <td>0</td>\n",
       "      <td>1</td>\n",
       "      <td>Not worth the money. First time I came here &amp; ...</td>\n",
       "      <td>2</td>\n",
       "    </tr>\n",
       "    <tr>\n",
       "      <th>PvyUmuJtpSYbkIaMQ0Fz2A</th>\n",
       "      <td>1</td>\n",
       "      <td>3</td>\n",
       "      <td>2</td>\n",
       "      <td>1</td>\n",
       "      <td>1</td>\n",
       "      <td>Love their chicken and waffle! The service was...</td>\n",
       "      <td>4</td>\n",
       "    </tr>\n",
       "    <tr>\n",
       "      <th>yVgNu6ZTTMbx69vOtdyHfg</th>\n",
       "      <td>1</td>\n",
       "      <td>3</td>\n",
       "      <td>3</td>\n",
       "      <td>0</td>\n",
       "      <td>0</td>\n",
       "      <td>WAAAAAYYYYY too expensive  for the quality of ...</td>\n",
       "      <td>1</td>\n",
       "    </tr>\n",
       "    <tr>\n",
       "      <th>3lRXNifVJDgqylwaQEHvGw</th>\n",
       "      <td>1</td>\n",
       "      <td>2</td>\n",
       "      <td>3</td>\n",
       "      <td>0</td>\n",
       "      <td>0</td>\n",
       "      <td>This place was such a disappointment...even tr...</td>\n",
       "      <td>1</td>\n",
       "    </tr>\n",
       "  </tbody>\n",
       "</table>\n",
       "</div>"
      ],
      "text/plain": [
       "                        typeA  typeB  useful  cool  funny  \\\n",
       "business_id                                                 \n",
       "frCxZS7lPhEnQRJ3UY6m7A      3      5       9     9      0   \n",
       "n5jTCFF6LqNIAz6Jx5-3tw      4      2       2     0      1   \n",
       "PvyUmuJtpSYbkIaMQ0Fz2A      1      3       2     1      1   \n",
       "yVgNu6ZTTMbx69vOtdyHfg      1      3       3     0      0   \n",
       "3lRXNifVJDgqylwaQEHvGw      1      2       3     0      0   \n",
       "\n",
       "                                                                   review  \\\n",
       "business_id                                                                 \n",
       "frCxZS7lPhEnQRJ3UY6m7A  Dude.\\n\\nI love this place. It's walking dista...   \n",
       "n5jTCFF6LqNIAz6Jx5-3tw  Not worth the money. First time I came here & ...   \n",
       "PvyUmuJtpSYbkIaMQ0Fz2A  Love their chicken and waffle! The service was...   \n",
       "yVgNu6ZTTMbx69vOtdyHfg  WAAAAAYYYYY too expensive  for the quality of ...   \n",
       "3lRXNifVJDgqylwaQEHvGw  This place was such a disappointment...even tr...   \n",
       "\n",
       "                        stars  \n",
       "business_id                    \n",
       "frCxZS7lPhEnQRJ3UY6m7A      5  \n",
       "n5jTCFF6LqNIAz6Jx5-3tw      2  \n",
       "PvyUmuJtpSYbkIaMQ0Fz2A      4  \n",
       "yVgNu6ZTTMbx69vOtdyHfg      1  \n",
       "3lRXNifVJDgqylwaQEHvGw      1  "
      ]
     },
     "execution_count": 28,
     "metadata": {},
     "output_type": "execute_result"
    }
   ],
   "source": [
    "df.head()"
   ]
  },
  {
   "cell_type": "markdown",
   "metadata": {},
   "source": [
    "### Some utility functions to visualize the data"
   ]
  },
  {
   "cell_type": "code",
   "execution_count": 4,
   "metadata": {},
   "outputs": [],
   "source": [
    "#plot pie charts to visualize the composition of the restaurants\n",
    "def pie_chart(df):\n",
    "    \"\"\"draw pie chart to analysis the category variable\n",
    "    :parameter\n",
    "        df: DataFrame\"\"\"\n",
    "    star_count = []\n",
    "    for i in [1,2,3,4,5]:\n",
    "        star_count.append(sum(df['stars'] == i))\n",
    "        print(i, 'star:%.2f' %(star_count[-1]/df.shape[0]*100))\n",
    "    \n",
    "    plt.figure(figsize=(5,5))\n",
    "    plt.pie(star_count, labels=[1,2,3,4,5])\n",
    "    plt.show()\n",
    "\n",
    "    typeA_count = []\n",
    "    for i in [0,1,2,3,4,5,6]:\n",
    "        typeA_count.append(sum(df['typeA'] == i))\n",
    "        print(idA[i], 'typeA:%.2f' %(typeA_count[-1]/df.shape[0]*100))\n",
    "    \n",
    "    plt.figure(figsize=(5,5))\n",
    "    plt.pie(typeA_count, labels=[idA[x] for x in [0,1,2,3,4,5,6]])\n",
    "    plt.show()\n",
    "\n",
    "    typeB_count = []\n",
    "    for i in [0,1,2,3,4,5]:\n",
    "        typeB_count.append(sum(df['typeB'] == i))\n",
    "        print(idB[i], 'typeB:%.2f' %(typeB_count[-1]/df.shape[0]*100))\n",
    "    \n",
    "    plt.figure(figsize=(5,5))\n",
    "    plt.pie(typeB_count, labels=[idB[x] for x in [0,1,2,3,4,5]])\n",
    "    plt.show()"
   ]
  },
  {
   "cell_type": "code",
   "execution_count": 5,
   "metadata": {},
   "outputs": [],
   "source": [
    "import nltk\n",
    "from nltk import word_tokenize\n",
    "from nltk.corpus import stopwords\n",
    "from nltk.stem.porter import PorterStemmer\n",
    "def sentence_tokenizer(s):\n",
    "    \"\"\"sentence tokenizer --modified from EDA version\n",
    "    :parameter \n",
    "        s: String \n",
    "    :return\n",
    "        tokenized_s: String\"\"\"\n",
    "    s = s.lower()\n",
    "    tokenized_s = nltk.word_tokenize(s)\n",
    "    english_stopwords = set(stopwords.words('english'))\n",
    "    tokenized_s = [w for w in tokenized_s if w not in english_stopwords if w.isalpha()]\n",
    "    tokenized_s = \" \".join(tokenized_s)\n",
    "    return tokenized_s"
   ]
  },
  {
   "cell_type": "markdown",
   "metadata": {},
   "source": [
    "The star categories are relatively balanced, luckily. There are a lot more American food restaurants than other types. Nightlife restaurants consist of more than half of the entire popoluation."
   ]
  },
  {
   "cell_type": "code",
   "execution_count": 36,
   "metadata": {},
   "outputs": [
    {
     "name": "stdout",
     "output_type": "stream",
     "text": [
      "1 star:16.61\n",
      "2 star:13.37\n",
      "3 star:14.69\n",
      "4 star:26.13\n",
      "5 star:29.21\n"
     ]
    },
    {
     "data": {
      "image/png": "[encoded data removed]",
      "text/plain": [
       "<Figure size 360x360 with 1 Axes>"
      ]
     },
     "metadata": {},
     "output_type": "display_data"
    },
    {
     "name": "stdout",
     "output_type": "stream",
     "text": [
      "Other typeA:0.00\n",
      "American (Traditional) typeA:28.85\n",
      "Italian typeA:9.24\n",
      "Mexican typeA:13.61\n",
      "Chinese typeA:3.07\n",
      "American (New) typeA:41.63\n",
      "Japanese typeA:3.61\n"
     ]
    },
    {
     "data": {
      "image/png": "[encoded data removed]",
      "text/plain": [
       "<Figure size 360x360 with 1 Axes>"
      ]
     },
     "metadata": {},
     "output_type": "display_data"
    },
    {
     "name": "stdout",
     "output_type": "stream",
     "text": [
      "Other typeB:0.00\n",
      "Nightlife typeB:57.24\n",
      "Fast Food typeB:7.55\n",
      "Breakfast & Brunch typeB:26.26\n",
      "Coffee & Tea typeB:1.30\n",
      "Cafes typeB:7.65\n"
     ]
    },
    {
     "data": {
      "image/png": "[encoded data removed]",
      "text/plain": [
       "<Figure size 360x360 with 1 Axes>"
      ]
     },
     "metadata": {},
     "output_type": "display_data"
    }
   ],
   "source": [
    "pie_chart(df)"
   ]
  },
  {
   "cell_type": "code",
   "execution_count": 46,
   "metadata": {},
   "outputs": [],
   "source": [
    "review = df['review']\n",
    "y = df['stars']"
   ]
  },
  {
   "cell_type": "code",
   "execution_count": 22,
   "metadata": {},
   "outputs": [
    {
     "name": "stderr",
     "output_type": "stream",
     "text": [
      "100%|█████████████████████████████████████████████████████████████████████████| 144748/144748 [23:52<00:00, 101.02it/s]\n"
     ]
    },
    {
     "name": "stdout",
     "output_type": "stream",
     "text": [
      "Wall time: 23min 52s\n"
     ]
    }
   ],
   "source": [
    "%%time\n",
    "X = []\n",
    "for i in tqdm(range(len(review))):\n",
    "    X.append(sentence_tokenizer(review[i]))"
   ]
  },
  {
   "cell_type": "code",
   "execution_count": 56,
   "metadata": {},
   "outputs": [],
   "source": [
    "#if you have this csv file already saved to the local drive\n",
    "processed_df = pd.read_csv('processed_small_all.csv', encoding='utf-8', dtype={'review': str, 'typeA': int, 'typeB': int, 'star': int})\n",
    "X = processed_df['review']"
   ]
  },
  {
   "cell_type": "code",
   "execution_count": 24,
   "metadata": {},
   "outputs": [],
   "source": [
    "processed_df = pd.DataFrame({'review':X,'star':y})\n",
    "processed_df.to_csv('processed_small.csv')"
   ]
  },
  {
   "cell_type": "code",
   "execution_count": 52,
   "metadata": {},
   "outputs": [],
   "source": [
    "from sklearn.model_selection import train_test_split\n",
    "X_train, X_test,y_train, y_test = train_test_split(X, y, test_size=0.1, random_state=42)"
   ]
  },
  {
   "cell_type": "markdown",
   "metadata": {},
   "source": [
    "## Bag of words model"
   ]
  },
  {
   "cell_type": "markdown",
   "metadata": {},
   "source": [
    "### Count Vectorizer\n",
    "https://scikit-learn.org/stable/modules/generated/sklearn.feature_extraction.text.CountVectorizer.html"
   ]
  },
  {
   "cell_type": "code",
   "execution_count": 132,
   "metadata": {},
   "outputs": [],
   "source": [
    "from sklearn.feature_extraction.text import CountVectorizer\n",
    "count_vectorizer = CountVectorizer(analyzer='word', max_features=5000, min_df=0.01, max_df=0.95, ngram_range=(1,2))  #can use n_gram, see document\n",
    "X_train_features_count = count_vectorizer.fit_transform(X_train)\n",
    "X_train_features_count = X_train_features_count.toarray()\n",
    "X_test_features_count = count_vectorizer.transform(X_test)\n",
    "X_test_features_count = X_test_features_count.toarray()"
   ]
  },
  {
   "cell_type": "code",
   "execution_count": 133,
   "metadata": {},
   "outputs": [
    {
     "name": "stdout",
     "output_type": "stream",
     "text": [
      "Wall time: 59.8 s\n"
     ]
    }
   ],
   "source": [
    "%%time\n",
    "from sklearn.ensemble import RandomForestClassifier\n",
    "forest_count = RandomForestClassifier(n_estimators = 100, n_jobs=-1, random_state=42) \n",
    "forest_count = forest_count.fit( X_train_features_count, y_train )"
   ]
  },
  {
   "cell_type": "markdown",
   "metadata": {},
   "source": [
    "### Hashing Vectorizer\n",
    "https://scikit-learn.org/stable/modules/generated/sklearn.feature_extraction.text.HashingVectorizer.html\n",
    "\n",
    "Using Hashing vectorizer will dramatically extend the training time, therefore, it will not be considered here."
   ]
  },
  {
   "cell_type": "code",
   "execution_count": 79,
   "metadata": {},
   "outputs": [],
   "source": [
    "from sklearn.feature_extraction.text import HashingVectorizer\n",
    "hashing_vectorizer = HashingVectorizer(analyzer='word', ngram_range=(1,2))\n",
    "X_train_features_hash = hashing_vectorizer.fit_transform(X_train)\n",
    "X_test_features_hash = hashing_vectorizer.transform(X_test)"
   ]
  },
  {
   "cell_type": "markdown",
   "metadata": {},
   "source": [
    "### Tfidf Vectorizer\n",
    "https://scikit-learn.org/stable/modules/generated/sklearn.feature_extraction.text.TfidfVectorizer.html"
   ]
  },
  {
   "cell_type": "code",
   "execution_count": 19,
   "metadata": {},
   "outputs": [],
   "source": [
    "from sklearn.feature_extraction.text import TfidfVectorizer\n",
    "tfidf_vectorizer = TfidfVectorizer(analyzer='word', max_features=5000, min_df=0.01, max_df=0.95, ngram_range=(1,2))  #can use n_gram, see document\n",
    "X_train_features_tfidf = tfidf_vectorizer.fit_transform(X_train)\n",
    "X_train_features_tfidf = X_train_features_tfidf.toarray()\n",
    "X_test_features_tfidf = tfidf_vectorizer.transform(X_test)\n",
    "X_test_features_tfidf = X_test_features_tfidf.toarray()"
   ]
  },
  {
   "cell_type": "code",
   "execution_count": 135,
   "metadata": {},
   "outputs": [
    {
     "name": "stdout",
     "output_type": "stream",
     "text": [
      "Wall time: 1min 2s\n"
     ]
    }
   ],
   "source": [
    "%%time\n",
    "forest_tfidf = RandomForestClassifier(n_estimators = 100, n_jobs=-1, random_state=42) \n",
    "forest_tfidf = forest_tfidf.fit( X_train_features_tfidf, y_train )"
   ]
  },
  {
   "cell_type": "markdown",
   "metadata": {},
   "source": [
    "## TruncatedSVD after tfidf\n",
    "https://scikit-learn.org/stable/modules/generated/sklearn.decomposition.TruncatedSVD.html#sklearn.decomposition.TruncatedSVD<br>\n",
    "TruncatedSVD is basically an implementation of LSA"
   ]
  },
  {
   "cell_type": "code",
   "execution_count": 137,
   "metadata": {},
   "outputs": [],
   "source": [
    "from sklearn.decomposition import TruncatedSVD\n",
    "truncatedsvd = TruncatedSVD(n_components=100, algorithm='randomized', n_iter=5, random_state=9527)\n",
    "X_train_features_lsa_tf = truncatedsvd.fit_transform(X_train_features_tfidf)\n",
    "X_test_features_lsa_tf = truncatedsvd.transform(X_test_features_tfidf)"
   ]
  },
  {
   "cell_type": "code",
   "execution_count": 138,
   "metadata": {},
   "outputs": [
    {
     "name": "stdout",
     "output_type": "stream",
     "text": [
      "Wall time: 39.5 s\n"
     ]
    }
   ],
   "source": [
    "%%time\n",
    "forest_lsa_tf = RandomForestClassifier(n_estimators=100, n_jobs=-1, random_state=42)\n",
    "forest_lsa_tf = forest_lsa.fit(X_train_features_lsa_tf, y_train)"
   ]
  },
  {
   "cell_type": "markdown",
   "metadata": {},
   "source": [
    "## TruncatedSVD after countvectorizer"
   ]
  },
  {
   "cell_type": "code",
   "execution_count": 139,
   "metadata": {},
   "outputs": [],
   "source": [
    "truncatedsvd = TruncatedSVD(n_components=100, algorithm='randomized', n_iter=5, random_state=9527)\n",
    "X_train_features_lsa_cnt = truncatedsvd.fit_transform(X_train_features_count)\n",
    "X_test_features_lsa_cnt = truncatedsvd.transform(X_test_features_count)"
   ]
  },
  {
   "cell_type": "code",
   "execution_count": 140,
   "metadata": {},
   "outputs": [
    {
     "name": "stdout",
     "output_type": "stream",
     "text": [
      "Wall time: 39.5 s\n"
     ]
    }
   ],
   "source": [
    "%%time\n",
    "forest_lsa_cnt = RandomForestClassifier(n_estimators=100, n_jobs=-1, random_state=42)\n",
    "forest_lsa_cnt = forest_lsa_cnt.fit(X_train_features_lsa_cnt, y_train)"
   ]
  },
  {
   "cell_type": "markdown",
   "metadata": {},
   "source": [
    "## Test and evalutaion\n",
    "\n",
    "Need to choose a metric"
   ]
  },
  {
   "cell_type": "code",
   "execution_count": 141,
   "metadata": {},
   "outputs": [],
   "source": [
    "model_cnt = forest_count\n",
    "model_tfidf = forest_tfidf\n",
    "model_lsa_tf = forest_lsa_tf\n",
    "model_lsa_cnt = forest_lsa_cnt"
   ]
  },
  {
   "cell_type": "code",
   "execution_count": 142,
   "metadata": {},
   "outputs": [],
   "source": [
    "y_pred_cnt = model_cnt.predict(X_test_features_count)\n",
    "y_pred_tf = model_tfidf.predict(X_test_features_tfidf)\n",
    "y_pred_lsa_tf = model_lsa_tf.predict(X_test_features_lsa_tf)\n",
    "y_pred_lsa_cnt = model_lsa_cnt.predict(X_test_features_lsa_cnt)"
   ]
  },
  {
   "cell_type": "markdown",
   "metadata": {},
   "source": [
    "#### Count vectorizer"
   ]
  },
  {
   "cell_type": "code",
   "execution_count": 145,
   "metadata": {},
   "outputs": [
    {
     "name": "stdout",
     "output_type": "stream",
     "text": [
      "F1 score 0.746149038091095\n",
      "Accuracy 0.7599309153713298\n",
      "Confusion: Matrix \n",
      " [[2133   91   28   64   53]\n",
      " [ 373 1125  103  194  104]\n",
      " [ 170  115 1243  529  167]\n",
      " [  74   22   58 2870  723]\n",
      " [  45   11    9  542 3629]]\n"
     ]
    },
    {
     "data": {
      "image/png": "[encoded data removed]",
      "text/plain": [
       "<Figure size 576x504 with 2 Axes>"
      ]
     },
     "metadata": {},
     "output_type": "display_data"
    }
   ],
   "source": [
    "from sklearn.metrics import f1_score\n",
    "from sklearn.metrics import accuracy_score, confusion_matrix\n",
    "import seaborn as sns\n",
    "print('F1 score',f1_score(y_test, y_pred_cnt, average='macro'))\n",
    "print('Accuracy', accuracy_score(y_test, y_pred_cnt))\n",
    "print('Confusion: Matrix \\n', confusion_matrix(y_test, y_pred_cnt))\n",
    "\n",
    "plt.figure(figsize=(8,7))\n",
    "sns.heatmap(confusion_matrix(y_test, y_pred_cnt))\n",
    "plt.show()"
   ]
  },
  {
   "cell_type": "markdown",
   "metadata": {},
   "source": [
    "#### Tfidf vectorizer"
   ]
  },
  {
   "cell_type": "code",
   "execution_count": 146,
   "metadata": {},
   "outputs": [
    {
     "name": "stdout",
     "output_type": "stream",
     "text": [
      "F1 score 0.745670099971646\n",
      "Accuracy 0.7602763385146805\n",
      "Confusion: Matrix \n",
      " [[2123  101   26   69   50]\n",
      " [ 378 1109  109  201  102]\n",
      " [ 156  105 1250  542  171]\n",
      " [  58   25   60 2839  765]\n",
      " [  45    7   11  489 3684]]\n"
     ]
    },
    {
     "data": {
      "image/png": "[encoded data removed]",
      "text/plain": [
       "<Figure size 576x504 with 2 Axes>"
      ]
     },
     "metadata": {},
     "output_type": "display_data"
    }
   ],
   "source": [
    "print('F1 score',f1_score(y_test, y_pred_tf, average='macro'))\n",
    "print('Accuracy', accuracy_score(y_test, y_pred_tf))\n",
    "print('Confusion: Matrix \\n', confusion_matrix(y_test, y_pred_tf))\n",
    "\n",
    "plt.figure(figsize=(8,7))\n",
    "sns.heatmap(confusion_matrix(y_test, y_pred_tf))\n",
    "plt.show()"
   ]
  },
  {
   "cell_type": "markdown",
   "metadata": {},
   "source": [
    "#### Count vectorizer followed by LSA"
   ]
  },
  {
   "cell_type": "code",
   "execution_count": 147,
   "metadata": {},
   "outputs": [
    {
     "name": "stdout",
     "output_type": "stream",
     "text": [
      "F1 score 0.7111607399084929\n",
      "Accuracy 0.7252504317789292\n",
      "Confusion: Matrix \n",
      " [[2023   74   24  125  123]\n",
      " [ 362 1035   61  283  158]\n",
      " [ 188   86 1144  574  232]\n",
      " [ 127   38   57 2769  756]\n",
      " [ 104   14   18  573 3527]]\n"
     ]
    },
    {
     "data": {
      "image/png": "[encoded data removed]",
      "text/plain": [
       "<Figure size 576x504 with 2 Axes>"
      ]
     },
     "metadata": {},
     "output_type": "display_data"
    }
   ],
   "source": [
    "print('F1 score',f1_score(y_test, y_pred_lsa_cnt, average='macro'))\n",
    "print('Accuracy', accuracy_score(y_test, y_pred_lsa_cnt))\n",
    "print('Confusion: Matrix \\n', confusion_matrix(y_test, y_pred_lsa_cnt))\n",
    "\n",
    "plt.figure(figsize=(8,7))\n",
    "sns.heatmap(confusion_matrix(y_test, y_pred_lsa_cnt))\n",
    "plt.show()"
   ]
  },
  {
   "cell_type": "markdown",
   "metadata": {},
   "source": [
    "#### Tfidf vectorizer followed by LSA"
   ]
  },
  {
   "cell_type": "code",
   "execution_count": 148,
   "metadata": {},
   "outputs": [
    {
     "name": "stdout",
     "output_type": "stream",
     "text": [
      "F1 score 0.7275990105355991\n",
      "Accuracy 0.743419689119171\n",
      "Confusion: Matrix \n",
      " [[2090  112   33   78   56]\n",
      " [ 372 1094   76  245  112]\n",
      " [ 184  123 1178  570  169]\n",
      " [  78   45   72 2796  756]\n",
      " [  68   16   19  530 3603]]\n"
     ]
    },
    {
     "data": {
      "image/png": "[encoded data removed]",
      "text/plain": [
       "<Figure size 576x504 with 2 Axes>"
      ]
     },
     "metadata": {},
     "output_type": "display_data"
    }
   ],
   "source": [
    "print('F1 score',f1_score(y_test, y_pred_lsa_tf, average='macro'))\n",
    "print('Accuracy', accuracy_score(y_test, y_pred_lsa_tf))\n",
    "print('Confusion: Matrix \\n', confusion_matrix(y_test, y_pred_lsa_tf))\n",
    "\n",
    "plt.figure(figsize=(8,7))\n",
    "sns.heatmap(confusion_matrix(y_test, y_pred_lsa_tf))\n",
    "plt.show()"
   ]
  },
  {
   "cell_type": "markdown",
   "metadata": {},
   "source": [
    "1. Do min_df and max_df help?\n",
    "2. Does using both word and bigram help?\n",
    "   Only using the bigram does not work as well. Accu = 0.71. Using both word and bigram, Accu = 0.76, Using just the words Accu = 0.76\n",
    "3. Does tfidf help?\n",
    "4. Diagnose what is wrong (where inccorect prediction happens)\n",
    "5. train model with one category and predict another\n",
    "6. Multinomial naive bayes does not work well."
   ]
  },
  {
   "cell_type": "markdown",
   "metadata": {},
   "source": [
    "# Train a model on one category and predict another category"
   ]
  },
  {
   "cell_type": "code",
   "execution_count": 149,
   "metadata": {},
   "outputs": [],
   "source": [
    "typeA = df['typeA']\n",
    "typeB = df['typeB']\n",
    "\n",
    "processed_df = pd.DataFrame({'review':X,'star':y,'typeA':typeA,'typeB':typeB})\n",
    "processed_df.to_csv('processes_small_all.csv')"
   ]
  },
  {
   "cell_type": "markdown",
   "metadata": {},
   "source": [
    "First consider the typeA categories. Use American food to train the model.\n",
    "Based on the first part, it seems that all the vectorizer work comparably well. Just pick the tfidf which shows slightly higher accuracy to evaluate this case."
   ]
  },
  {
   "cell_type": "code",
   "execution_count": 49,
   "metadata": {},
   "outputs": [],
   "source": [
    "full_model = Pipeline([('vectorizer',TfidfVectorizer(analyzer='word', max_features=5000, min_df=0.01, max_df=0.95, ngram_range=(1,2))),\n",
    "                       ('forest', RandomForestClassifier(n_estimators = 100, n_jobs=-1, random_state=42))])"
   ]
  },
  {
   "cell_type": "code",
   "execution_count": 24,
   "metadata": {},
   "outputs": [
    {
     "name": "stdout",
     "output_type": "stream",
     "text": [
      "F1 score 0.7458404925885064\n",
      "Accuracy 0.758878194490541\n",
      "Confusion: Matrix \n",
      " [[ 758   34   21   29   29]\n",
      " [ 123  436   49   97   41]\n",
      " [  56   28  487  202   71]\n",
      " [  20    7   22 1277  378]\n",
      " [  29    2    3  212 1615]]\n"
     ]
    }
   ],
   "source": [
    "#take only one category to train the model\n",
    "american = processed_df[processed_df['typeA'] == 5]\n",
    "X_typeA = american['review'].values.astype('U')\n",
    "y_typeA = american['star']\n",
    "\n",
    "X_train_typeA, X_test_typeA , y_train_typeA, y_test_typeA = train_test_split(X_typeA, y_typeA, test_size=0.1, random_state=42)\n",
    "\n",
    "model_american = full_model\n",
    "model_american.fit(X_train_typeA, y_train_typeA)\n",
    "y_pred_typeA = model_american.predict(X_test_typeA)\n",
    "print('F1 score',f1_score(y_test_typeA, y_pred_typeA, average='macro'))\n",
    "print('Accuracy', accuracy_score(y_test_typeA, y_pred_typeA))\n",
    "print('Confusion: Matrix \\n', confusion_matrix(y_test_typeA, y_pred_typeA))"
   ]
  },
  {
   "cell_type": "code",
   "execution_count": 61,
   "metadata": {},
   "outputs": [],
   "source": [
    "#apply this model to other category\n",
    "def model_tester(trained_model, X, y_true, visualization=False):\n",
    "    y_pred = trained_model.predict(X.values.astype('U')) #ensure the reviews are unicode strings. This could be an issue when reading data from csv\n",
    "    print('F1 score',f1_score(y_true, y_pred, average='macro'))\n",
    "    print('Accuracy', accuracy_score(y_true, y_pred))\n",
    "    print('Confusion: Matrix \\n', confusion_matrix(y_true, y_pred))\n",
    "    \n",
    "    if visualization == True:\n",
    "        cm = confusion_matrix(y_true, y_pred)\n",
    "        cm = cm/ cm.astype(np.float).sum(axis=1)\n",
    "        plt.figure(figsize=(4,3))\n",
    "        sns.heatmap(cm)\n",
    "        plt.show()"
   ]
  },
  {
   "cell_type": "code",
   "execution_count": 40,
   "metadata": {},
   "outputs": [
    {
     "name": "stdout",
     "output_type": "stream",
     "text": [
      "F1 score 0.4514358101046459\n",
      "Accuracy 0.5269090170593014\n",
      "Confusion: Matrix \n",
      " [[2695  344  110  232  260]\n",
      " [ 958  480  354  629  311]\n",
      " [ 303  241  415 1295  550]\n",
      " [ 139   58  127 2255 2029]\n",
      " [ 131   31   30 1186 4533]]\n"
     ]
    },
    {
     "data": {
      "image/png": "[encoded data removed]",
      "text/plain": [
       "<Figure size 288x216 with 2 Axes>"
      ]
     },
     "metadata": {},
     "output_type": "display_data"
    }
   ],
   "source": [
    "americanOld = processed_df[processed_df['typeA'] == 1]\n",
    "americanNew = processed_df[processed_df['typeA'] == 5]\n",
    "chinese = processed_df[processed_df['typeA'] == 4]\n",
    "mexican = processed_df[processed_df['typeA'] == 3]\n",
    "italian = processed_df[processed_df['typeA'] == 2]\n",
    "japanese = processed_df[processed_df['typeA'] == 6]\n",
    "model_tester(model_american, mexican['review'], mexican['star'], visualization=True)"
   ]
  },
  {
   "cell_type": "code",
   "execution_count": 58,
   "metadata": {},
   "outputs": [
    {
     "name": "stdout",
     "output_type": "stream",
     "text": [
      "F1 score 0.743944181359863\n",
      "Accuracy 0.7593531257542844\n",
      "Confusion: Matrix \n",
      " [[1358   45   20   47   30]\n",
      " [ 263  645   59  137   50]\n",
      " [  77   42  681  294   97]\n",
      " [  45   14   36 1583  411]\n",
      " [  37    3    5  282 2025]]\n"
     ]
    }
   ],
   "source": [
    "#take one category from typeB\n",
    "night = processed_df[processed_df['typeB'] == 1]\n",
    "X_typeB = night['review'].values.astype('U')\n",
    "y_typeB = night['star']\n",
    "\n",
    "X_train_typeB, X_test_typeB , y_train_typeB, y_test_typeB = train_test_split(X_typeB, y_typeB, test_size=0.1, random_state=42)\n",
    "\n",
    "model_night = full_model\n",
    "model_night.fit(X_train_typeB, y_train_typeB)\n",
    "y_pred_typeB = model_night.predict(X_test_typeB)\n",
    "print('F1 score',f1_score(y_test_typeB, y_pred_typeB, average='macro'))\n",
    "print('Accuracy', accuracy_score(y_test_typeB, y_pred_typeB))\n",
    "print('Confusion: Matrix \\n', confusion_matrix(y_test_typeB, y_pred_typeB))"
   ]
  },
  {
   "cell_type": "code",
   "execution_count": 189,
   "metadata": {},
   "outputs": [
    {
     "data": {
      "text/plain": [
       "{1: 'Nightlife',\n",
       " 2: 'Fast Food',\n",
       " 3: 'Breakfast & Brunch',\n",
       " 4: 'Coffee & Tea',\n",
       " 5: 'Cafes',\n",
       " 0: 'Other'}"
      ]
     },
     "execution_count": 189,
     "metadata": {},
     "output_type": "execute_result"
    }
   ],
   "source": [
    "idB"
   ]
  },
  {
   "cell_type": "code",
   "execution_count": 65,
   "metadata": {},
   "outputs": [
    {
     "name": "stdout",
     "output_type": "stream",
     "text": [
      "F1 score 0.7784931769578556\n",
      "Accuracy 0.7896999269733784\n",
      "Confusion: Matrix \n",
      " [[ 8015   232    73   203   225]\n",
      " [ 1445  4805   346   725   347]\n",
      " [  558   329  5518  1816   606]\n",
      " [  277   113   189 12949  2870]\n",
      " [  235    35    50  1997 16294]]\n"
     ]
    },
    {
     "data": {
      "image/png": "[encoded data removed]",
      "text/plain": [
       "<Figure size 288x216 with 2 Axes>"
      ]
     },
     "metadata": {},
     "output_type": "display_data"
    }
   ],
   "source": [
    "night = processed_df[processed_df['typeB'] == 1]\n",
    "fastfood = processed_df[processed_df['typeB'] == 2]\n",
    "breakfast = processed_df[processed_df['typeB'] == 3]\n",
    "coffee = processed_df[processed_df['typeB'] == 4]\n",
    "cafe = processed_df[processed_df['typeA'] == 5]\n",
    "model_tester(model_night, cafe['review'], cafe['star'], visualization=True)"
   ]
  },
  {
   "cell_type": "markdown",
   "metadata": {},
   "source": [
    "use the entire dataset to train the model.\n",
    "\n",
    "Using the entire data set to train the model yield an accuracy score of about 76%. Applying this model to any of the categories..."
   ]
  },
  {
   "cell_type": "code",
   "execution_count": 67,
   "metadata": {},
   "outputs": [
    {
     "name": "stdout",
     "output_type": "stream",
     "text": [
      "F1 score 0.745670099971646\n",
      "Accuracy 0.7602763385146805\n",
      "Confusion: Matrix \n",
      " [[2123  101   26   69   50]\n",
      " [ 378 1109  109  201  102]\n",
      " [ 156  105 1250  542  171]\n",
      " [  58   25   60 2839  765]\n",
      " [  45    7   11  489 3684]]\n"
     ]
    }
   ],
   "source": [
    "all_data = full_model\n",
    "all_data.fit(X_train.values.astype('U'), y_train)\n",
    "y_pred = all_data.predict(X_test)\n",
    "print('F1 score',f1_score(y_test, y_pred, average='macro'))\n",
    "print('Accuracy', accuracy_score(y_test, y_pred))\n",
    "print('Confusion: Matrix \\n', confusion_matrix(y_test, y_pred))"
   ]
  },
  {
   "cell_type": "code",
   "execution_count": 69,
   "metadata": {
    "scrolled": true
   },
   "outputs": [
    {
     "name": "stdout",
     "output_type": "stream",
     "text": [
      "F1 score 0.9749722788917243\n",
      "Accuracy 0.9754148814193471\n",
      "Confusion: Matrix \n",
      " [[14612    67    14    43    37]\n",
      " [  239 10972    61   119    68]\n",
      " [   98    65 11591   316    94]\n",
      " [   38    12    33 20638   426]\n",
      " [   20     2     8   277 23005]]\n"
     ]
    },
    {
     "data": {
      "image/png": "[encoded data removed]",
      "text/plain": [
       "<Figure size 288x216 with 2 Axes>"
      ]
     },
     "metadata": {},
     "output_type": "display_data"
    }
   ],
   "source": [
    "model_tester(all_data, night['review'], night['star'], visualization=True)"
   ]
  },
  {
   "cell_type": "markdown",
   "metadata": {},
   "source": [
    "## Investigating the feature importance from the random forest classifier"
   ]
  },
  {
   "cell_type": "code",
   "execution_count": 70,
   "metadata": {},
   "outputs": [],
   "source": [
    "#find out the top 100 words in terms of the importances to the classifier\n",
    "def important_words(trained_model, top, bottom, output=False):\n",
    "    importance = np.array(trained_model.named_steps['forest'].feature_importances_)\n",
    "    idx_top = np.argpartition(importance, -top)[-top:]\n",
    "    idx_bot = np.argpartition(importance, bottom)[:bottom]\n",
    "    feature_names = np.array(all_data.named_steps['vectorizer'].get_feature_names())\n",
    "    \n",
    "    most_imp = feature_names[idx_top[np.argsort(importance[idx_top])[::-1]]]\n",
    "    least_imp = feature_names[idx_bot[np.argsort(importance[idx_bot])]]\n",
    "    \n",
    "    print('%.0f Most important words:'%top, most_imp)\n",
    "    print('%.0f Least important words:'%bottom, least_imp)\n",
    "    \n",
    "    if output == True:\n",
    "        return most_imp, least_imp"
   ]
  },
  {
   "cell_type": "code",
   "execution_count": 71,
   "metadata": {},
   "outputs": [
    {
     "name": "stdout",
     "output_type": "stream",
     "text": [
      "100 Most important words: ['great' 'good' 'amazing' 'delicious' 'best' 'food' 'worst' 'minutes'\n",
      " 'asked' 'would' 'place' 'love' 'service' 'horrible' 'never' 'pretty'\n",
      " 'like' 'friendly' 'definitely' 'terrible' 'bad' 'manager' 'awesome'\n",
      " 'perfect' 'really' 'nice' 'back' 'rude' 'little' 'favorite' 'get'\n",
      " 'nothing' 'told' 'one' 'us' 'time' 'excellent' 'go' 'menu' 'ordered'\n",
      " 'even' 'also' 'better' 'said' 'bit' 'tasty' 'decent' 'always' 'order'\n",
      " 'much' 'bar' 'try' 'could' 'fresh' 'ever' 'came' 'got' 'well' 'bland'\n",
      " 'ok' 'restaurant' 'though' 'everything' 'however' 'overall' 'think'\n",
      " 'chicken' 'went' 'come' 'people' 'staff' 'another' 'took' 'stars'\n",
      " 'mediocre' 'drinks' 'first' 'okay' 'fantastic' 'waited' 'table' 'cheese'\n",
      " 'loved' 'money' 'night' 'maybe' 'way' 'server' 'left' 'experience'\n",
      " 'still' 'two' 'going' 'fries' 'know' 'made' 'eat' 'waitress' 'wait'\n",
      " 'happy']\n",
      "100 Least important words: ['explained' 'requested' 'recommendations' 'drink order' 'lime'\n",
      " 'goat cheese' 'passed' 'toasted' 'medium rare' 'parmesan' 'enjoying'\n",
      " 'cooked perfectly' 'realized' 'situation' 'ten' 'vanilla' 'melted' 'goat'\n",
      " 'separate' 'pork belly' 'signature' 'savory' 'returned' 'mozzarella'\n",
      " 'moment' 'wanting' 'pot' 'experienced' 'figure' 'wood' 'sounded'\n",
      " 'suggested' 'cheddar' 'setting' 'hubby' 'mashed potatoes' 'mayo' 'giant'\n",
      " 'lamb' 'ham' 'stood' 'ran' 'complimentary' 'lighting' 'whether' 'sound'\n",
      " 'funny' 'questions' 'sounds' 'negative' 'caesar' 'eyes' 'personal'\n",
      " 'scallops' 'tortillas' 'prime' 'south' 'looking forward' 'mary' 'request'\n",
      " 'vegetables' 'greens' 'book' 'daughter' 'next door' 'knowledgeable'\n",
      " 'lucky' 'section' 'noodles' 'credit' 'combination' 'helped' 'promptly'\n",
      " 'happen' 'chewy' 'picked' 'notice' 'slaw' 'service excellent' 'vodka'\n",
      " 'bigger' 'professional' 'waited minutes' 'potato fries' 'feels'\n",
      " 'girlfriend' 'ahead' 'duck' 'filet' 'imagine' 'treated' 'super friendly'\n",
      " 'doubt' 'booths' 'first visit' 'figured' 'well done' 'everywhere'\n",
      " 'previous' 'host']\n"
     ]
    }
   ],
   "source": [
    "most_imp, least_imp = important_words(all_data, 100, 100, output=True)"
   ]
  },
  {
   "cell_type": "markdown",
   "metadata": {},
   "source": [
    "After preliminary manual tagging of these words/bigrams, we can make two pie charts to compare the difference."
   ]
  },
  {
   "cell_type": "code",
   "execution_count": 106,
   "metadata": {},
   "outputs": [
    {
     "data": {
      "image/png": "[encoded data removed]",
      "text/plain": [
       "<Figure size 360x360 with 1 Axes>"
      ]
     },
     "metadata": {},
     "output_type": "display_data"
    },
    {
     "data": {
      "image/png": "[encoded data removed]",
      "text/plain": [
       "<Figure size 360x360 with 1 Axes>"
      ]
     },
     "metadata": {},
     "output_type": "display_data"
    }
   ],
   "source": [
    "MI_cnt = [26, 34, 15, 0, 24, 1]\n",
    "MI_lab = ['verb', 'adjective', 'adverb', 'conjunction', 'noun', 'pronoun']\n",
    "LI_cnt = [30, 18, 5, 1, 46, 0]\n",
    "LI_lab = ['verb', 'adjective', 'adverb', 'conjunction', 'noun', 'pronoun']\n",
    "\n",
    "plt.figure(figsize=(5,5))\n",
    "plt.pie(MI_cnt, labels=MI_lab)\n",
    "plt.show()\n",
    "\n",
    "plt.figure(figsize=(5,5))\n",
    "plt.pie(LI_cnt, labels=LI_lab)\n",
    "plt.show()"
   ]
  },
  {
   "cell_type": "markdown",
   "metadata": {},
   "source": [
    "## Investigating where the model fails (tragically)\n",
    "\n",
    "see where the model predict 1 star as 5 star or vice versa"
   ]
  },
  {
   "cell_type": "markdown",
   "metadata": {},
   "source": [
    "When the prediction is significantly biased, the review are normally shorter"
   ]
  },
  {
   "cell_type": "code",
   "execution_count": 164,
   "metadata": {
    "scrolled": true
   },
   "outputs": [],
   "source": [
    "df_pred = pd.DataFrame({'review': X_test.values.astype('U'), 'TrueY': y_test, 'PredY': y_pred})\n",
    "df_OneAsFive = df_pred.loc[(df_pred['TrueY'] == 1) & (df_pred['PredY'] == 5)]\n",
    "df_FiveAsOne = df_pred.loc[(df_pred['TrueY'] == 5) & (df_pred['PredY'] == 1)]\n",
    "df_threefour = df_pred.loc[(df_pred['TrueY'] == 3) & (df_pred['PredY'] == 4)]\n",
    "df_correct = df_pred.loc[df_pred['TrueY'] == df_pred['PredY']]"
   ]
  },
  {
   "cell_type": "code",
   "execution_count": 160,
   "metadata": {},
   "outputs": [],
   "source": [
    "#a function to calculate the average review length (No. of characters) \n",
    "def review_length(df):\n",
    "    avg_len = 0\n",
    "    for i in range(df.shape[0]):\n",
    "        avg_len += len(df.iloc[i,0])\n",
    "    avg_len = avg_len/df.shape[0]\n",
    "    print(avg_len)"
   ]
  },
  {
   "cell_type": "code",
   "execution_count": 165,
   "metadata": {},
   "outputs": [
    {
     "name": "stdout",
     "output_type": "stream",
     "text": [
      "545.1506587914585\n",
      "411.28\n",
      "463.84444444444443\n",
      "638.9169741697417\n"
     ]
    }
   ],
   "source": [
    "review_length(df_correct)\n",
    "review_length(df_OneAsFive)\n",
    "review_length(df_FiveAsOne)\n",
    "review_length(df_threefour)"
   ]
  },
  {
   "cell_type": "code",
   "execution_count": 187,
   "metadata": {},
   "outputs": [],
   "source": [
    "def top_tfidf(df, n):\n",
    "    \n",
    "    tfidf_vectorizer_diagnosis = TfidfVectorizer(analyzer='word', max_features=5000, min_df=0.01, max_df=0.95, ngram_range=(1,1))\n",
    "    tfidf = tfidf_vectorizer_diagnosis.fit_transform(df['review'])\n",
    "    feature_array = np.array(tfidf_vectorizer_diagnosis.get_feature_names())\n",
    "    tfidf_sorting = np.argsort(tfidf.toarray()).flatten()[::-1]\n",
    "    \n",
    "    return feature_array[tfidf_sorting][:n]"
   ]
  },
  {
   "cell_type": "code",
   "execution_count": 189,
   "metadata": {},
   "outputs": [
    {
     "data": {
      "text/plain": [
       "array(['wrap', 'garlic', 'umph', 'ranch', 'mozzarella', 'encountered',\n",
       "       'favor', 'add', 'give', 'chicken', 'get', 'gas', 'find', 'fingers',\n",
       "       'finish', 'finished', 'fire', 'first', 'fit', 'flamer', 'flames',\n",
       "       'flatbread', 'flavor', 'gentlemen', 'flavorful', 'flavors',\n",
       "       'fleeing', 'flight', 'gentleman', 'flip', 'fine', 'finally',\n",
       "       'food', 'filling', 'favorite', 'favorites', 'favourite', 'fbi',\n",
       "       'feature', 'feel', 'feels', 'felix', 'fell', 'felt', 'fettuccini',\n",
       "       'figure', 'german', 'figured', 'file', 'filed'], dtype='<U14')"
      ]
     },
     "execution_count": 189,
     "metadata": {},
     "output_type": "execute_result"
    }
   ],
   "source": [
    "top_tfidf(df_FiveAsOne, 50)"
   ]
  },
  {
   "cell_type": "code",
   "execution_count": 190,
   "metadata": {
    "scrolled": true
   },
   "outputs": [
    {
     "data": {
      "text/plain": [
       "array(['service', 'may', 'come', 'wave', 'refill', 'aimlessly', 'box',\n",
       "       'waited', 'seen', 'watching', 'great', 'portion', 'walking',\n",
       "       'stars', 'problem', 'overall', 'tv', 'size', 'main', 'hostess',\n",
       "       'mediocre', 'plenty', 'forever', 'food', 'happy', 'water', 'price',\n",
       "       'hour', 'busy', 'still', 'delicious', 'experience', 'us', 'good',\n",
       "       'best', 'time', 'get', 'experiencing', 'failure', 'family',\n",
       "       'everyone', 'everything', 'everywhere', 'false', 'exam', 'fake',\n",
       "       'excellent', 'excited', 'failures', 'execution'], dtype='<U14')"
      ]
     },
     "execution_count": 190,
     "metadata": {},
     "output_type": "execute_result"
    }
   ],
   "source": [
    "top_tfidf(df_OneAsFive, 50)"
   ]
  },
  {
   "cell_type": "markdown",
   "metadata": {},
   "source": [
    "## Try to calculate the similarity of all 1 star review among different cuisines or retaurant types"
   ]
  },
  {
   "cell_type": "code",
   "execution_count": 206,
   "metadata": {},
   "outputs": [],
   "source": [
    "tfidf = TfidfVectorizer().fit_transform(all_reviews.values.astype('U'))"
   ]
  },
  {
   "cell_type": "code",
   "execution_count": 224,
   "metadata": {},
   "outputs": [],
   "source": [
    "#1 star\n",
    "def calculate_cosine_similarity(star):\n",
    "    documents = []\n",
    "    for i in range(1, 7):\n",
    "        s = ''\n",
    "        all_reviews = processed_df.loc[(processed_df['typeA'] == i) & (processed_df['star'] == star)].loc[:,'review']\n",
    "        for r in all_reviews.values.astype('U'):\n",
    "            s += r\n",
    "        documents.append(s)\n",
    "    tfidf = TfidfVectorizer().fit_transform(documents)\n",
    "    pairwise_similarity = tfidf * tfidf.T\n",
    "    pairwise_similarity = pairwise_similarity.toarray()\n",
    "    \n",
    "    plt.figure(figsize=(5,5))\n",
    "    sns.heatmap(pairwise_similarity)\n",
    "    plt.show()\n",
    "    \n",
    "    return pairwise_similarity"
   ]
  },
  {
   "cell_type": "code",
   "execution_count": 226,
   "metadata": {},
   "outputs": [
    {
     "data": {
      "text/plain": [
       "{1: 'American (Traditional)',\n",
       " 2: 'Italian',\n",
       " 3: 'Mexican',\n",
       " 4: 'Chinese',\n",
       " 5: 'American (New)',\n",
       " 6: 'Japanese',\n",
       " 0: 'Other'}"
      ]
     },
     "execution_count": 226,
     "metadata": {},
     "output_type": "execute_result"
    }
   ],
   "source": [
    "idA"
   ]
  },
  {
   "cell_type": "code",
   "execution_count": 225,
   "metadata": {},
   "outputs": [
    {
     "data": {
      "image/png": "[encoded data removed]",
      "text/plain": [
       "<Figure size 360x360 with 2 Axes>"
      ]
     },
     "metadata": {},
     "output_type": "display_data"
    }
   ],
   "source": [
    "cosine_sim_1star = calculate_cosine_similarity(1)"
   ]
  },
  {
   "cell_type": "code",
   "execution_count": 227,
   "metadata": {},
   "outputs": [
    {
     "data": {
      "image/png": "[encoded data removed]",
      "text/plain": [
       "<Figure size 360x360 with 2 Axes>"
      ]
     },
     "metadata": {},
     "output_type": "display_data"
    }
   ],
   "source": [
    "cosine_sim_5star = calculate_cosine_similarity(5)"
   ]
  },
  {
   "cell_type": "code",
   "execution_count": 228,
   "metadata": {},
   "outputs": [
    {
     "data": {
      "image/png": "[encoded data removed]",
      "text/plain": [
       "<Figure size 360x360 with 2 Axes>"
      ]
     },
     "metadata": {},
     "output_type": "display_data"
    }
   ],
   "source": [
    "cosine_sim_3star = calculate_cosine_similarity(3)"
   ]
  }
 ],
 "metadata": {
  "kernelspec": {
   "display_name": "Python 3",
   "language": "python",
   "name": "python3"
  },
  "language_info": {
   "codemirror_mode": {
    "name": "ipython",
    "version": 3
   },
   "file_extension": ".py",
   "mimetype": "text/x-python",
   "name": "python",
   "nbconvert_exporter": "python",
   "pygments_lexer": "ipython3",
   "version": "3.6.5"
  }
 },
 "nbformat": 4,
 "nbformat_minor": 2
}
