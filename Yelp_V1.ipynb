{
 "cells": [
  {
   "cell_type": "markdown",
   "metadata": {},
   "source": [
    "# Not useful"
   ]
  },
  {
   "cell_type": "code",
   "execution_count": 1,
   "metadata": {},
   "outputs": [],
   "source": [
    "\"\"\"Read in data\"\"\"\n",
    "\n",
    "data_dir = 'C:\\\\yelp_NLP\\\\yelp_dataset\\\\'\n",
    "business_json = 'yelp_academic_dataset_business.json'\n",
    "review_json = 'yelp_academic_dataset_review.json'"
   ]
  },
  {
   "cell_type": "code",
   "execution_count": 2,
   "metadata": {},
   "outputs": [
    {
     "name": "stderr",
     "output_type": "stream",
     "text": [
      "100%|███████████████████████████████| 188593/188593 [00:09<00:00, 20455.10it/s]\n"
     ]
    },
    {
     "name": "stdout",
     "output_type": "stream",
     "text": [
      "Summary\n",
      "TypeA:\n",
      "Italian 4190\n",
      "Japanese 2313\n",
      "American (Traditional) 5450\n",
      "American (New) 4091\n",
      "Chinese 4233\n",
      "Mexican 4428\n",
      "typeA: 0 32468\n",
      "\n",
      "TypeB:\n",
      "Coffee & Tea 720\n",
      "Nightlife 6993\n",
      "Breakfast & Brunch 4088\n",
      "Fast Food 6777\n",
      "Cafes 3090\n",
      "typeB: 0 35505\n"
     ]
    },
    {
     "name": "stderr",
     "output_type": "stream",
     "text": [
      "100%|█████████████████████████████| 5996996/5996996 [02:48<00:00, 35602.14it/s]\n"
     ]
    },
    {
     "name": "stdout",
     "output_type": "stream",
     "text": [
      "(3654797, 7)\n"
     ]
    }
   ],
   "source": [
    "import helper\n",
    "restaurant_dict = helper.business_filter(data_dir+business_json)\n",
    "df = helper.review_loader(data_dir+review_json, restaurant_dict)"
   ]
  },
  {
   "cell_type": "code",
   "execution_count": 19,
   "metadata": {},
   "outputs": [],
   "source": [
    "import pandas as pd\n",
    "df.to_pickle(\"filtered.pickle\")\n",
    "\n",
    "filterA = df[df['typeA'] != 0]\n",
    "filterB = filterA[filterA['typeB'] != 0]\n",
    "\n",
    "filterB.to_pickle(\"typeAB_not_0.pickle\")"
   ]
  },
  {
   "cell_type": "markdown",
   "metadata": {},
   "source": [
    "Some EDA below,\n",
    "not useful"
   ]
  },
  {
   "cell_type": "code",
   "execution_count": null,
   "metadata": {},
   "outputs": [],
   "source": [
    "# create categoty set\n",
    "with open(data_dir+business_json, 'r', encoding='utf-8') as file:\n",
    "    category_set = set()\n",
    "    for record in tqdm(file, total = 188593):\n",
    "        record = json.loads(record)\n",
    "        if record['categories'] is not None and 'Restaurants' in record['categories']:\n",
    "            category_set.update([i.strip() for i in record['categories'].split(',')])\n",
    "            \n",
    "    category_count = {}\n",
    "    for i in category_set:\n",
    "        category_count[i] = 0\n",
    "\n",
    "# category count\n",
    "with open(data_dir+business_json, 'r', encoding='utf-8') as file:\n",
    "    for record in tqdm(file, total = 188593):\n",
    "        record = json.loads(record)\n",
    "        if record['categories'] is not None and 'Restaurants' in record['categories']:\n",
    "            for single_category in record['categories'].split(','):\n",
    "                category_count[single_category.strip()] += 1\n",
    "        \n",
    "# Create business id and category pair\n",
    "with open(data_dir+business_json, 'r', encoding='utf-8') as file:\n",
    "    restaurant_dict = {}\n",
    "    for record in tqdm(file, total = 188593):\n",
    "        record = json.loads(record)\n",
    "        if record['categories'] is not None and 'Restaurants' in record['categories']:\n",
    "            restaurant_dict[record['business_id']] = record['categories']"
   ]
  },
  {
   "cell_type": "code",
   "execution_count": null,
   "metadata": {},
   "outputs": [],
   "source": []
  },
  {
   "cell_type": "code",
   "execution_count": null,
   "metadata": {},
   "outputs": [],
   "source": [
    "from tqdm import tqdm\n",
    "def find_related_keyword(keyword):\n",
    "    category_count = {}\n",
    "    with open(data_dir+business_json, 'r', encoding='utf-8') as file:\n",
    "        for record in tqdm(file, total = 188593):\n",
    "            record = json.loads(record)\n",
    "            if record['categories'] is not None and 'Restaurants' in record['categories'] \\\n",
    "            and keyword in record['categories']:\n",
    "                for single_category in record['categories'].split(','):\n",
    "                    if single_category.strip() in category_count:\n",
    "                        category_count[single_category.strip()] += 1\n",
    "                    else:\n",
    "                        category_count[single_category.strip()] = 1 # first see\n",
    "    sorted_count = sorted(((value, key) for (key,value) in category_count.items()), reverse=True)\n",
    "    return sorted_count"
   ]
  },
  {
   "cell_type": "markdown",
   "metadata": {},
   "source": [
    "Total Categories: 1305\n",
    "Restaurants: 707\n",
    "\n",
    "存在问题： 例如 Italian 4550个id里有182+180 是American, American new和traditional有1076家重合\n",
    "可以根据国家分类\n",
    "(6659, 'American (Traditional)'),(4550, 'Italian'),(4419, 'Mexican'),(4247, 'Chinese'),(4230, 'American (New)'),(2566, 'Japanese'),// (1828, 'Canadian (New)'),(1744, 'Mediterranean'),(1417, 'Indian'),(1393, 'Thai'),(1225, 'Vietnamese'),(1182, 'Middle Eastern'),(1023, 'Greek'),(977, 'French'),(847, 'Korean'),\n",
    "简便起见， 挑2000以上的类型即：\n",
    "(6659, 'American (Traditional)'),(4550, 'Italian'),(4419, 'Mexican'),(4247, 'Chinese'),(4230, 'American (New)'),(2566, 'Japanese')\n",
    "\n",
    "另外可以根据功能类型分类\n",
    "(7948, 'Nightlife'),(6812, 'Fast Food'),(5023, 'Breakfast & Brunch'),(3108, 'Coffee & Tea'),(3056, 'Cafes'),"
   ]
  },
  {
   "cell_type": "code",
   "execution_count": null,
   "metadata": {},
   "outputs": [],
   "source": [
    "find_related_keyword('American (Traditional)')"
   ]
  }
 ],
 "metadata": {
  "kernelspec": {
   "display_name": "Python [conda root]",
   "language": "python",
   "name": "conda-root-py"
  },
  "language_info": {
   "codemirror_mode": {
    "name": "ipython",
    "version": 3
   },
   "file_extension": ".py",
   "mimetype": "text/x-python",
   "name": "python",
   "nbconvert_exporter": "python",
   "pygments_lexer": "ipython3",
   "version": "3.6.1"
  }
 },
 "nbformat": 4,
 "nbformat_minor": 2
}
