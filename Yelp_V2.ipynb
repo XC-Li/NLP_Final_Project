{
 "cells": [
  {
   "cell_type": "markdown",
   "metadata": {},
   "source": [
    "# Yelp review sentiment analysis\n",
    "Final Project for NLP\n",
    "https://www.yelp.com/dataset/documentation/main"
   ]
  },
  {
   "cell_type": "markdown",
   "metadata": {},
   "source": [
    "### Read from the original dataset and filter necessary data\n",
    "\n",
    "```python\n",
    "\n",
    "data_dir = 'C:\\\\yelp_NLP\\\\yelp_dataset\\\\'\n",
    "business_json = 'yelp_academic_dataset_business.json'\n",
    "review_json = 'yelp_academic_dataset_review.json'\n",
    "\n",
    "import helper\n",
    "restaurant_dict = helper.business_filter(data_dir+business_json)\n",
    "df = helper.review_loader(data_dir+review_json, restaurant_dict)\n",
    "\n",
    "import pandas as pd\n",
    "df.to_pickle(\"filtered.pickle\")  # full data:2.25GB\n",
    "filterA = df[df['typeA'] != 0]\n",
    "filterB = filterA[filterA['typeB'] != 0]\n",
    "filterB.to_pickle(\"typeAB_not_0.pickle\")  # Smaller data:581MB\n",
    "filterB[filterB['useful']>1].sample(frac=0.76, replace=True, random_state=42).to_pickle(\"small_data.pickle\") #small enough to upload to github\n",
    "```"
   ]
  },
  {
   "cell_type": "code",
   "execution_count": 20,
   "metadata": {},
   "outputs": [],
   "source": [
    "import pandas as pd\n",
    "idA = {'American (Traditional)':1, 'Italian':2,'Mexican':3,'Chinese':4,'American (New)':5,'Japanese':6}\n",
    "idB = {'Nightlife':1, 'Fast Food':2, 'Breakfast & Brunch':3, 'Coffee & Tea':4, 'Cafes':5}\n",
    "filterB = pd.read_pickle(\"typeAB_not_0.pickle\")\n"
   ]
  },
  {
   "cell_type": "code",
   "execution_count": 27,
   "metadata": {},
   "outputs": [],
   "source": []
  }
 ],
 "metadata": {
  "kernelspec": {
   "display_name": "Python [conda root]",
   "language": "python",
   "name": "conda-root-py"
  },
  "language_info": {
   "codemirror_mode": {
    "name": "ipython",
    "version": 3
   },
   "file_extension": ".py",
   "mimetype": "text/x-python",
   "name": "python",
   "nbconvert_exporter": "python",
   "pygments_lexer": "ipython3",
   "version": "3.6.1"
  }
 },
 "nbformat": 4,
 "nbformat_minor": 2
}
